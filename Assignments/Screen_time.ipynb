{
 "cells": [
  {
   "cell_type": "markdown",
   "id": "f292b8b7",
   "metadata": {},
   "source": [
    "## Imports and Reading the Data\n",
    "Dataset used is screentime_analysis_jan_2025<br>\n",
    "URL: https://www.kaggle.com/datasets/flaviamonique/screetime-analysis-jan2025/data"
   ]
  },
  {
   "cell_type": "code",
   "execution_count": 1,
   "id": "b2d44c99",
   "metadata": {},
   "outputs": [],
   "source": [
    "import pandas as pd\n",
    "import numpy as np\n",
    "import matplotlib.pyplot as plt\n",
    "import seaborn as sns\n",
    "plt.style.use('ggplot')"
   ]
  },
  {
   "cell_type": "code",
   "execution_count": 2,
   "id": "ecd41856",
   "metadata": {},
   "outputs": [],
   "source": [
    "df = pd.read_csv('screentime_analysis_jan_2025.csv')"
   ]
  },
  {
   "cell_type": "markdown",
   "id": "5320aa23",
   "metadata": {},
   "source": [
    "## 1. Understanding Data\n",
    "\n",
    "Applying operations like `Shape`, `Info`,`Describe` to understand the data present"
   ]
  },
  {
   "cell_type": "code",
   "execution_count": 3,
   "id": "e477ed7e",
   "metadata": {},
   "outputs": [
    {
     "data": {
      "text/plain": [
       "(240, 5)"
      ]
     },
     "execution_count": 3,
     "metadata": {},
     "output_type": "execute_result"
    }
   ],
   "source": [
    "df.shape\n",
    "# Tells us the dimensions of the dataset"
   ]
  },
  {
   "cell_type": "code",
   "execution_count": 4,
   "id": "7baa72fc",
   "metadata": {},
   "outputs": [
    {
     "data": {
      "text/html": [
       "<div>\n",
       "<style scoped>\n",
       "    .dataframe tbody tr th:only-of-type {\n",
       "        vertical-align: middle;\n",
       "    }\n",
       "\n",
       "    .dataframe tbody tr th {\n",
       "        vertical-align: top;\n",
       "    }\n",
       "\n",
       "    .dataframe thead th {\n",
       "        text-align: right;\n",
       "    }\n",
       "</style>\n",
       "<table border=\"1\" class=\"dataframe\">\n",
       "  <thead>\n",
       "    <tr style=\"text-align: right;\">\n",
       "      <th></th>\n",
       "      <th>Usage (minutes)</th>\n",
       "      <th>Notifications</th>\n",
       "      <th>Times Opened</th>\n",
       "    </tr>\n",
       "  </thead>\n",
       "  <tbody>\n",
       "    <tr>\n",
       "      <th>count</th>\n",
       "      <td>240.000000</td>\n",
       "      <td>240.000000</td>\n",
       "      <td>240.000000</td>\n",
       "    </tr>\n",
       "    <tr>\n",
       "      <th>mean</th>\n",
       "      <td>160.616667</td>\n",
       "      <td>29.483333</td>\n",
       "      <td>21.670833</td>\n",
       "    </tr>\n",
       "    <tr>\n",
       "      <th>std</th>\n",
       "      <td>61.608113</td>\n",
       "      <td>39.311434</td>\n",
       "      <td>24.913322</td>\n",
       "    </tr>\n",
       "    <tr>\n",
       "      <th>min</th>\n",
       "      <td>13.000000</td>\n",
       "      <td>0.000000</td>\n",
       "      <td>1.000000</td>\n",
       "    </tr>\n",
       "    <tr>\n",
       "      <th>25%</th>\n",
       "      <td>120.000000</td>\n",
       "      <td>2.000000</td>\n",
       "      <td>4.750000</td>\n",
       "    </tr>\n",
       "    <tr>\n",
       "      <th>50%</th>\n",
       "      <td>142.000000</td>\n",
       "      <td>11.000000</td>\n",
       "      <td>11.000000</td>\n",
       "    </tr>\n",
       "    <tr>\n",
       "      <th>75%</th>\n",
       "      <td>210.750000</td>\n",
       "      <td>45.000000</td>\n",
       "      <td>30.000000</td>\n",
       "    </tr>\n",
       "    <tr>\n",
       "      <th>max</th>\n",
       "      <td>419.000000</td>\n",
       "      <td>147.000000</td>\n",
       "      <td>99.000000</td>\n",
       "    </tr>\n",
       "  </tbody>\n",
       "</table>\n",
       "</div>"
      ],
      "text/plain": [
       "       Usage (minutes)  Notifications  Times Opened\n",
       "count       240.000000     240.000000    240.000000\n",
       "mean        160.616667      29.483333     21.670833\n",
       "std          61.608113      39.311434     24.913322\n",
       "min          13.000000       0.000000      1.000000\n",
       "25%         120.000000       2.000000      4.750000\n",
       "50%         142.000000      11.000000     11.000000\n",
       "75%         210.750000      45.000000     30.000000\n",
       "max         419.000000     147.000000     99.000000"
      ]
     },
     "execution_count": 4,
     "metadata": {},
     "output_type": "execute_result"
    }
   ],
   "source": [
    "df.describe()"
   ]
  },
  {
   "cell_type": "code",
   "execution_count": 5,
   "id": "83908752",
   "metadata": {},
   "outputs": [
    {
     "name": "stdout",
     "output_type": "stream",
     "text": [
      "<class 'pandas.core.frame.DataFrame'>\n",
      "RangeIndex: 240 entries, 0 to 239\n",
      "Data columns (total 5 columns):\n",
      " #   Column           Non-Null Count  Dtype \n",
      "---  ------           --------------  ----- \n",
      " 0   Date             240 non-null    object\n",
      " 1   App              240 non-null    object\n",
      " 2   Usage (minutes)  240 non-null    int64 \n",
      " 3   Notifications    240 non-null    int64 \n",
      " 4   Times Opened     240 non-null    int64 \n",
      "dtypes: int64(3), object(2)\n",
      "memory usage: 9.5+ KB\n"
     ]
    }
   ],
   "source": [
    "df.info()"
   ]
  },
  {
   "cell_type": "code",
   "execution_count": 6,
   "id": "8bdd5b3f",
   "metadata": {},
   "outputs": [
    {
     "data": {
      "text/html": [
       "<div>\n",
       "<style scoped>\n",
       "    .dataframe tbody tr th:only-of-type {\n",
       "        vertical-align: middle;\n",
       "    }\n",
       "\n",
       "    .dataframe tbody tr th {\n",
       "        vertical-align: top;\n",
       "    }\n",
       "\n",
       "    .dataframe thead th {\n",
       "        text-align: right;\n",
       "    }\n",
       "</style>\n",
       "<table border=\"1\" class=\"dataframe\">\n",
       "  <thead>\n",
       "    <tr style=\"text-align: right;\">\n",
       "      <th></th>\n",
       "      <th>Date</th>\n",
       "      <th>App</th>\n",
       "      <th>Usage (minutes)</th>\n",
       "      <th>Notifications</th>\n",
       "      <th>Times Opened</th>\n",
       "    </tr>\n",
       "  </thead>\n",
       "  <tbody>\n",
       "    <tr>\n",
       "      <th>0</th>\n",
       "      <td>2025-01-01</td>\n",
       "      <td>Insta</td>\n",
       "      <td>120</td>\n",
       "      <td>11</td>\n",
       "      <td>38</td>\n",
       "    </tr>\n",
       "    <tr>\n",
       "      <th>1</th>\n",
       "      <td>2025-01-01</td>\n",
       "      <td>X</td>\n",
       "      <td>220</td>\n",
       "      <td>31</td>\n",
       "      <td>13</td>\n",
       "    </tr>\n",
       "    <tr>\n",
       "      <th>2</th>\n",
       "      <td>2025-01-01</td>\n",
       "      <td>WhatsA</td>\n",
       "      <td>126</td>\n",
       "      <td>65</td>\n",
       "      <td>89</td>\n",
       "    </tr>\n",
       "    <tr>\n",
       "      <th>3</th>\n",
       "      <td>2025-01-01</td>\n",
       "      <td>Telegram</td>\n",
       "      <td>60</td>\n",
       "      <td>5</td>\n",
       "      <td>14</td>\n",
       "    </tr>\n",
       "    <tr>\n",
       "      <th>4</th>\n",
       "      <td>2025-01-01</td>\n",
       "      <td>YouTube</td>\n",
       "      <td>120</td>\n",
       "      <td>2</td>\n",
       "      <td>10</td>\n",
       "    </tr>\n",
       "  </tbody>\n",
       "</table>\n",
       "</div>"
      ],
      "text/plain": [
       "         Date       App  Usage (minutes)  Notifications  Times Opened\n",
       "0  2025-01-01     Insta              120             11            38\n",
       "1  2025-01-01         X              220             31            13\n",
       "2  2025-01-01    WhatsA              126             65            89\n",
       "3  2025-01-01  Telegram               60              5            14\n",
       "4  2025-01-01   YouTube              120              2            10"
      ]
     },
     "execution_count": 6,
     "metadata": {},
     "output_type": "execute_result"
    }
   ],
   "source": [
    "df.head()"
   ]
  },
  {
   "cell_type": "code",
   "execution_count": 7,
   "id": "6998e02b",
   "metadata": {},
   "outputs": [
    {
     "data": {
      "text/plain": [
       "Date               object\n",
       "App                object\n",
       "Usage (minutes)     int64\n",
       "Notifications       int64\n",
       "Times Opened        int64\n",
       "dtype: object"
      ]
     },
     "execution_count": 7,
     "metadata": {},
     "output_type": "execute_result"
    }
   ],
   "source": [
    "df.dtypes"
   ]
  },
  {
   "cell_type": "code",
   "execution_count": 8,
   "id": "a4792af5",
   "metadata": {},
   "outputs": [
    {
     "data": {
      "text/plain": [
       "Index(['Date', 'App', 'Usage (minutes)', 'Notifications', 'Times Opened'], dtype='object')"
      ]
     },
     "execution_count": 8,
     "metadata": {},
     "output_type": "execute_result"
    }
   ],
   "source": [
    "df.columns"
   ]
  },
  {
   "cell_type": "markdown",
   "id": "39b1bb66",
   "metadata": {},
   "source": [
    "## Data preparation\n",
    "\n",
    "- Dropping columns or rows which are not needed\n",
    "- Finding duplicates"
   ]
  },
  {
   "cell_type": "code",
   "execution_count": 9,
   "id": "f78c0273",
   "metadata": {},
   "outputs": [
    {
     "data": {
      "text/plain": [
       "Index(['Date', 'App', 'Usage (minutes)', 'Notifications', 'Times Opened'], dtype='object')"
      ]
     },
     "execution_count": 9,
     "metadata": {},
     "output_type": "execute_result"
    }
   ],
   "source": [
    "df.columns"
   ]
  },
  {
   "cell_type": "markdown",
   "id": "0dec1936",
   "metadata": {},
   "source": [
    "The dataset only has 5 Columns which makes it a small dataset and all of them can be used to gain insights<br>\n",
    "<br>\n",
    "Let's convert the date into pandas datetime type"
   ]
  },
  {
   "cell_type": "code",
   "execution_count": 10,
   "id": "46866fcc",
   "metadata": {},
   "outputs": [],
   "source": [
    "df[\"Date\"]=pd.to_datetime(df[\"Date\"])"
   ]
  },
  {
   "cell_type": "markdown",
   "id": "0fc46009",
   "metadata": {},
   "source": [
    "Check for Null values in the dataframe "
   ]
  },
  {
   "cell_type": "code",
   "execution_count": 11,
   "id": "d4fba3ce",
   "metadata": {},
   "outputs": [
    {
     "data": {
      "text/plain": [
       "Date               0\n",
       "App                0\n",
       "Usage (minutes)    0\n",
       "Notifications      0\n",
       "Times Opened       0\n",
       "dtype: int64"
      ]
     },
     "execution_count": 11,
     "metadata": {},
     "output_type": "execute_result"
    }
   ],
   "source": [
    "df.isna().sum()"
   ]
  },
  {
   "cell_type": "markdown",
   "id": "73570df4",
   "metadata": {},
   "source": [
    "isna() returns a dataframe with True for null values and False otherwise<br>\n",
    "All sums being 0 indicate that there are no null values in the dataset which helps us not lose any data due to dropping rows with null values"
   ]
  },
  {
   "cell_type": "code",
   "execution_count": 12,
   "id": "1db79a9b",
   "metadata": {},
   "outputs": [
    {
     "name": "stdout",
     "output_type": "stream",
     "text": [
      "Duplicates: 0\n"
     ]
    }
   ],
   "source": [
    "print(\"Duplicates:\", df.duplicated().sum())\n",
    "df = df.drop_duplicates()"
   ]
  },
  {
   "cell_type": "markdown",
   "id": "9bf75718",
   "metadata": {},
   "source": [
    "## 3. Data Visualization "
   ]
  },
  {
   "cell_type": "code",
   "execution_count": 13,
   "id": "16208ba6",
   "metadata": {},
   "outputs": [
    {
     "data": {
      "text/html": [
       "<div>\n",
       "<style scoped>\n",
       "    .dataframe tbody tr th:only-of-type {\n",
       "        vertical-align: middle;\n",
       "    }\n",
       "\n",
       "    .dataframe tbody tr th {\n",
       "        vertical-align: top;\n",
       "    }\n",
       "\n",
       "    .dataframe thead th {\n",
       "        text-align: right;\n",
       "    }\n",
       "</style>\n",
       "<table border=\"1\" class=\"dataframe\">\n",
       "  <thead>\n",
       "    <tr style=\"text-align: right;\">\n",
       "      <th></th>\n",
       "      <th>Date</th>\n",
       "      <th>App</th>\n",
       "      <th>Usage (minutes)</th>\n",
       "      <th>Notifications</th>\n",
       "      <th>Times Opened</th>\n",
       "    </tr>\n",
       "  </thead>\n",
       "  <tbody>\n",
       "    <tr>\n",
       "      <th>0</th>\n",
       "      <td>2025-01-01</td>\n",
       "      <td>Insta</td>\n",
       "      <td>120</td>\n",
       "      <td>11</td>\n",
       "      <td>38</td>\n",
       "    </tr>\n",
       "    <tr>\n",
       "      <th>1</th>\n",
       "      <td>2025-01-01</td>\n",
       "      <td>X</td>\n",
       "      <td>220</td>\n",
       "      <td>31</td>\n",
       "      <td>13</td>\n",
       "    </tr>\n",
       "    <tr>\n",
       "      <th>2</th>\n",
       "      <td>2025-01-01</td>\n",
       "      <td>WhatsA</td>\n",
       "      <td>126</td>\n",
       "      <td>65</td>\n",
       "      <td>89</td>\n",
       "    </tr>\n",
       "    <tr>\n",
       "      <th>3</th>\n",
       "      <td>2025-01-01</td>\n",
       "      <td>Telegram</td>\n",
       "      <td>60</td>\n",
       "      <td>5</td>\n",
       "      <td>14</td>\n",
       "    </tr>\n",
       "    <tr>\n",
       "      <th>4</th>\n",
       "      <td>2025-01-01</td>\n",
       "      <td>YouTube</td>\n",
       "      <td>120</td>\n",
       "      <td>2</td>\n",
       "      <td>10</td>\n",
       "    </tr>\n",
       "    <tr>\n",
       "      <th>5</th>\n",
       "      <td>2025-01-01</td>\n",
       "      <td>Netflix</td>\n",
       "      <td>147</td>\n",
       "      <td>0</td>\n",
       "      <td>5</td>\n",
       "    </tr>\n",
       "    <tr>\n",
       "      <th>6</th>\n",
       "      <td>2025-01-01</td>\n",
       "      <td>Facebook</td>\n",
       "      <td>134</td>\n",
       "      <td>44</td>\n",
       "      <td>50</td>\n",
       "    </tr>\n",
       "    <tr>\n",
       "      <th>7</th>\n",
       "      <td>2025-01-01</td>\n",
       "      <td>LinkedIn</td>\n",
       "      <td>70</td>\n",
       "      <td>13</td>\n",
       "      <td>9</td>\n",
       "    </tr>\n",
       "    <tr>\n",
       "      <th>8</th>\n",
       "      <td>2025-01-02</td>\n",
       "      <td>Instagram</td>\n",
       "      <td>80</td>\n",
       "      <td>64</td>\n",
       "      <td>66</td>\n",
       "    </tr>\n",
       "    <tr>\n",
       "      <th>9</th>\n",
       "      <td>2025-01-02</td>\n",
       "      <td>Twiter</td>\n",
       "      <td>40</td>\n",
       "      <td>27</td>\n",
       "      <td>9</td>\n",
       "    </tr>\n",
       "    <tr>\n",
       "      <th>10</th>\n",
       "      <td>2025-01-02</td>\n",
       "      <td>WhatsApp</td>\n",
       "      <td>50</td>\n",
       "      <td>65</td>\n",
       "      <td>88</td>\n",
       "    </tr>\n",
       "    <tr>\n",
       "      <th>11</th>\n",
       "      <td>2025-01-02</td>\n",
       "      <td>Telegram</td>\n",
       "      <td>123</td>\n",
       "      <td>6</td>\n",
       "      <td>8</td>\n",
       "    </tr>\n",
       "    <tr>\n",
       "      <th>12</th>\n",
       "      <td>2025-01-02</td>\n",
       "      <td>YouTube</td>\n",
       "      <td>120</td>\n",
       "      <td>0</td>\n",
       "      <td>2</td>\n",
       "    </tr>\n",
       "    <tr>\n",
       "      <th>13</th>\n",
       "      <td>2025-01-02</td>\n",
       "      <td>Netflix</td>\n",
       "      <td>109</td>\n",
       "      <td>1</td>\n",
       "      <td>2</td>\n",
       "    </tr>\n",
       "    <tr>\n",
       "      <th>14</th>\n",
       "      <td>2025-01-02</td>\n",
       "      <td>Facebook</td>\n",
       "      <td>140</td>\n",
       "      <td>28</td>\n",
       "      <td>48</td>\n",
       "    </tr>\n",
       "    <tr>\n",
       "      <th>15</th>\n",
       "      <td>2025-01-02</td>\n",
       "      <td>LinkedIn</td>\n",
       "      <td>109</td>\n",
       "      <td>2</td>\n",
       "      <td>5</td>\n",
       "    </tr>\n",
       "    <tr>\n",
       "      <th>16</th>\n",
       "      <td>2025-01-03</td>\n",
       "      <td>Instagram</td>\n",
       "      <td>90</td>\n",
       "      <td>30</td>\n",
       "      <td>53</td>\n",
       "    </tr>\n",
       "    <tr>\n",
       "      <th>17</th>\n",
       "      <td>2025-01-03</td>\n",
       "      <td>Twiter</td>\n",
       "      <td>139</td>\n",
       "      <td>11</td>\n",
       "      <td>13</td>\n",
       "    </tr>\n",
       "    <tr>\n",
       "      <th>18</th>\n",
       "      <td>2025-01-03</td>\n",
       "      <td>WhatsApp</td>\n",
       "      <td>51</td>\n",
       "      <td>120</td>\n",
       "      <td>81</td>\n",
       "    </tr>\n",
       "    <tr>\n",
       "      <th>19</th>\n",
       "      <td>2025-01-03</td>\n",
       "      <td>Telegram</td>\n",
       "      <td>28</td>\n",
       "      <td>2</td>\n",
       "      <td>15</td>\n",
       "    </tr>\n",
       "  </tbody>\n",
       "</table>\n",
       "</div>"
      ],
      "text/plain": [
       "         Date        App  Usage (minutes)  Notifications  Times Opened\n",
       "0  2025-01-01      Insta              120             11            38\n",
       "1  2025-01-01          X              220             31            13\n",
       "2  2025-01-01     WhatsA              126             65            89\n",
       "3  2025-01-01   Telegram               60              5            14\n",
       "4  2025-01-01    YouTube              120              2            10\n",
       "5  2025-01-01    Netflix              147              0             5\n",
       "6  2025-01-01   Facebook              134             44            50\n",
       "7  2025-01-01   LinkedIn               70             13             9\n",
       "8  2025-01-02  Instagram               80             64            66\n",
       "9  2025-01-02     Twiter               40             27             9\n",
       "10 2025-01-02   WhatsApp               50             65            88\n",
       "11 2025-01-02   Telegram              123              6             8\n",
       "12 2025-01-02    YouTube              120              0             2\n",
       "13 2025-01-02    Netflix              109              1             2\n",
       "14 2025-01-02   Facebook              140             28            48\n",
       "15 2025-01-02   LinkedIn              109              2             5\n",
       "16 2025-01-03  Instagram               90             30            53\n",
       "17 2025-01-03     Twiter              139             11            13\n",
       "18 2025-01-03   WhatsApp               51            120            81\n",
       "19 2025-01-03   Telegram               28              2            15"
      ]
     },
     "execution_count": 13,
     "metadata": {},
     "output_type": "execute_result"
    }
   ],
   "source": [
    "df.head(20)"
   ]
  },
  {
   "cell_type": "markdown",
   "id": "dcdc194a",
   "metadata": {},
   "source": [
    "Analyzing Usage(minutes) to get to know which app is used the most."
   ]
  },
  {
   "cell_type": "code",
   "execution_count": 14,
   "id": "0aeee763",
   "metadata": {},
   "outputs": [
    {
     "data": {
      "text/html": [
       "<div>\n",
       "<style scoped>\n",
       "    .dataframe tbody tr th:only-of-type {\n",
       "        vertical-align: middle;\n",
       "    }\n",
       "\n",
       "    .dataframe tbody tr th {\n",
       "        vertical-align: top;\n",
       "    }\n",
       "\n",
       "    .dataframe thead th {\n",
       "        text-align: right;\n",
       "    }\n",
       "</style>\n",
       "<table border=\"1\" class=\"dataframe\">\n",
       "  <thead>\n",
       "    <tr style=\"text-align: right;\">\n",
       "      <th></th>\n",
       "      <th>App</th>\n",
       "      <th>Usage (minutes)</th>\n",
       "    </tr>\n",
       "  </thead>\n",
       "  <tbody>\n",
       "    <tr>\n",
       "      <th>0</th>\n",
       "      <td>Facebook</td>\n",
       "      <td>5331</td>\n",
       "    </tr>\n",
       "    <tr>\n",
       "      <th>10</th>\n",
       "      <td>YouTube</td>\n",
       "      <td>4849</td>\n",
       "    </tr>\n",
       "    <tr>\n",
       "      <th>5</th>\n",
       "      <td>Telegram</td>\n",
       "      <td>4770</td>\n",
       "    </tr>\n",
       "    <tr>\n",
       "      <th>8</th>\n",
       "      <td>WhatsApp</td>\n",
       "      <td>4694</td>\n",
       "    </tr>\n",
       "    <tr>\n",
       "      <th>2</th>\n",
       "      <td>Instagram</td>\n",
       "      <td>4637</td>\n",
       "    </tr>\n",
       "    <tr>\n",
       "      <th>4</th>\n",
       "      <td>Netflix</td>\n",
       "      <td>4548</td>\n",
       "    </tr>\n",
       "    <tr>\n",
       "      <th>3</th>\n",
       "      <td>LinkedIn</td>\n",
       "      <td>4368</td>\n",
       "    </tr>\n",
       "    <tr>\n",
       "      <th>9</th>\n",
       "      <td>X</td>\n",
       "      <td>3900</td>\n",
       "    </tr>\n",
       "    <tr>\n",
       "      <th>7</th>\n",
       "      <td>WhatsA</td>\n",
       "      <td>532</td>\n",
       "    </tr>\n",
       "    <tr>\n",
       "      <th>1</th>\n",
       "      <td>Insta</td>\n",
       "      <td>483</td>\n",
       "    </tr>\n",
       "    <tr>\n",
       "      <th>6</th>\n",
       "      <td>Twiter</td>\n",
       "      <td>436</td>\n",
       "    </tr>\n",
       "  </tbody>\n",
       "</table>\n",
       "</div>"
      ],
      "text/plain": [
       "          App  Usage (minutes)\n",
       "0    Facebook             5331\n",
       "10    YouTube             4849\n",
       "5    Telegram             4770\n",
       "8    WhatsApp             4694\n",
       "2   Instagram             4637\n",
       "4     Netflix             4548\n",
       "3    LinkedIn             4368\n",
       "9           X             3900\n",
       "7      WhatsA              532\n",
       "1       Insta              483\n",
       "6      Twiter              436"
      ]
     },
     "execution_count": 14,
     "metadata": {},
     "output_type": "execute_result"
    }
   ],
   "source": [
    "classifi=df.groupby(\"App\")[\"Usage (minutes)\"].sum().reset_index().sort_values(\"Usage (minutes)\",ascending=False)\n",
    "classifi"
   ]
  },
  {
   "cell_type": "markdown",
   "id": "d6b6815e",
   "metadata": {},
   "source": [
    "`Facebook` is the most used app among the apps listed in the dataset"
   ]
  },
  {
   "cell_type": "markdown",
   "id": "c8d8e087",
   "metadata": {},
   "source": [
    "Let's see the distribution of the usage of the apps."
   ]
  },
  {
   "cell_type": "code",
   "execution_count": 15,
   "id": "e0c3e792",
   "metadata": {},
   "outputs": [
    {
     "data": {
      "image/png": "[encoded data removed]",
      "text/plain": [
       "<Figure size 800x400 with 1 Axes>"
      ]
     },
     "metadata": {},
     "output_type": "display_data"
    }
   ],
   "source": [
    "plt.figure(figsize=(8, 4))\n",
    "sns.histplot(df['Usage (minutes)'], kde=True, bins=30) # kde is the curve representing the distribution\n",
    "plt.title(f'Distribution of Usage (minutes)')\n",
    "plt.xlabel('Usage (minutes)')\n",
    "plt.ylabel('Frequency')\n",
    "plt.show()"
   ]
  },
  {
   "cell_type": "markdown",
   "id": "e323171b",
   "metadata": {},
   "source": [
    "From the graph we can see that the distribution of usage has 2 peaks which is like a bimodal distribution.<br>\n",
    "It can be said that the most usage is between 100-150 minutes, with the next major group lying between 200-250 minutes.<br>\n",
    "<br>\n",
    "<br>\n",
    "Assuming that the usage time and the number of times a certain time is related. Plot a graph to check for correlation between number of times the app is opened and screen time."
   ]
  },
  {
   "cell_type": "code",
   "execution_count": 16,
   "id": "05ace3fb",
   "metadata": {},
   "outputs": [
    {
     "data": {
      "image/png": "[encoded data removed]",
      "text/plain": [
       "<Figure size 800x500 with 1 Axes>"
      ]
     },
     "metadata": {},
     "output_type": "display_data"
    }
   ],
   "source": [
    "plt.figure(figsize=(8, 5))\n",
    "sns.scatterplot(data=df, x='Times Opened', y='Usage (minutes)')\n",
    "plt.title('Correlation Between App Opens and Screen Time')\n",
    "plt.xlabel('Number of App Opens')\n",
    "plt.ylabel('Usage Time (minutes)')\n",
    "plt.grid(True)\n",
    "plt.show()"
   ]
  },
  {
   "cell_type": "code",
   "execution_count": 17,
   "id": "f052502d",
   "metadata": {},
   "outputs": [
    {
     "name": "stdout",
     "output_type": "stream",
     "text": [
      "Correlation coefficient: 0.14\n"
     ]
    }
   ],
   "source": [
    "#Finding correlation coefficient between them\n",
    "correlation = df['Times Opened'].corr(df['Usage (minutes)'])\n",
    "print(f\"Correlation coefficient: {correlation:.2f}\")\n"
   ]
  },
  {
   "cell_type": "markdown",
   "id": "118d78ad",
   "metadata": {},
   "source": [
    "It can be seen that the two features have a Weak positive correlation coefficient of 0.14 which means that the usage and number of times the app is opened is not related as much as we thought.<br><br><br>\n",
    "Check the effect of notifications on usage time."
   ]
  },
  {
   "cell_type": "code",
   "execution_count": 18,
   "id": "2a8b7ec8",
   "metadata": {},
   "outputs": [
    {
     "data": {
      "image/png": "[encoded data removed]",
      "text/plain": [
       "<Figure size 800x500 with 1 Axes>"
      ]
     },
     "metadata": {},
     "output_type": "display_data"
    }
   ],
   "source": [
    "plt.figure(figsize=(8, 5))\n",
    "sns.scatterplot(data=df, x='Notifications', y='Usage (minutes)', alpha=0.6)\n",
    "plt.title('Effect of Notifications on Usage Time')\n",
    "plt.xlabel('Number of Notifications')\n",
    "plt.ylabel('Usage (minutes)')\n",
    "plt.grid(True)\n",
    "plt.show()"
   ]
  },
  {
   "cell_type": "markdown",
   "id": "034ef14b",
   "metadata": {},
   "source": [
    "There is no clear trend to notice here but we can see that people who get more notification show usage around the average value (160 as seen in describe function result) usage."
   ]
  }
 ],
 "metadata": {
  "kernelspec": {
   "display_name": "Python 3",
   "language": "python",
   "name": "python3"
  },
  "language_info": {
   "codemirror_mode": {
    "name": "ipython",
    "version": 3
   },
   "file_extension": ".py",
   "mimetype": "text/x-python",
   "name": "python",
   "nbconvert_exporter": "python",
   "pygments_lexer": "ipython3",
   "version": "3.10.5"
  }
 },
 "nbformat": 4,
 "nbformat_minor": 5
}
