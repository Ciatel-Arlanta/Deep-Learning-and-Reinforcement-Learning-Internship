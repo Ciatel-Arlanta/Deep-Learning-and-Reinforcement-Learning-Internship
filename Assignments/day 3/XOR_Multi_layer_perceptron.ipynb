{
 "cells": [
  {
   "cell_type": "markdown",
   "id": "26a2991b",
   "metadata": {},
   "source": [
    "# Implement a simple single/Multi-layer perceptron from scratch in Python to solve a basic binary classification problem (e.g., XOR gate)"
   ]
  },
  {
   "cell_type": "code",
   "execution_count": 1,
   "id": "7777f94c",
   "metadata": {},
   "outputs": [],
   "source": [
    "import numpy as np\n",
    "import matplotlib.pyplot as plt\n",
    "%matplotlib inline"
   ]
  },
  {
   "cell_type": "code",
   "execution_count": 2,
   "id": "b24ce6f8",
   "metadata": {},
   "outputs": [],
   "source": [
    "# XOR dataset\n",
    "X = np.array([\n",
    "    [0, 0],\n",
    "    [0, 1],\n",
    "    [1, 0],\n",
    "    [1, 1]\n",
    "])\n",
    "\n",
    "y = np.array([\n",
    "    [0],\n",
    "    [1],\n",
    "    [1],\n",
    "    [0]\n",
    "])\n"
   ]
  },
  {
   "cell_type": "code",
   "execution_count": 4,
   "id": "3df56701",
   "metadata": {},
   "outputs": [],
   "source": [
    "def sigmoid(x):\n",
    "    return 1 / (1 + np.exp(-x))\n",
    "\n",
    "def sigmoid_deriv(x):\n",
    "    return sigmoid(x) * (1 - sigmoid(x))"
   ]
  },
  {
   "cell_type": "code",
   "execution_count": null,
   "id": "357d0ed4",
   "metadata": {},
   "outputs": [
    {
     "name": "stdout",
     "output_type": "stream",
     "text": [
      "Epoch 0, Loss: 0.3267\n",
      "Epoch 1000, Loss: 0.2186\n",
      "Epoch 2000, Loss: 0.1529\n",
      "Epoch 3000, Loss: 0.0425\n",
      "Epoch 4000, Loss: 0.0144\n",
      "Epoch 5000, Loss: 0.0077\n",
      "Epoch 6000, Loss: 0.0051\n",
      "Epoch 7000, Loss: 0.0037\n",
      "Epoch 8000, Loss: 0.0029\n",
      "Epoch 9000, Loss: 0.0024\n"
     ]
    }
   ],
   "source": [
    "np.random.seed(0)\n",
    "input_size = 2\n",
    "hidden_size = 4\n",
    "output_size = 1\n",
    "lr = 0.1\n",
    "epochs = 10000\n",
    "\n",
    "# Weights and biases\n",
    "W1 = np.random.randn(input_size, hidden_size)\n",
    "b1 = np.zeros((1, hidden_size))\n",
    "W2 = np.random.randn(hidden_size, output_size)\n",
    "b2 = np.zeros((1, output_size))\n",
    "\n",
    "# Training\n",
    "for epoch in range(epochs):\n",
    "    # Forward pass\n",
    "    z1 = X.dot(W1) + b1\n",
    "    a1 = sigmoid(z1)\n",
    "    z2 = a1.dot(W2) + b2\n",
    "    a2 = sigmoid(z2)\n",
    "\n",
    "    # Loss (Mean Squared Error)\n",
    "    loss = np.mean((y - a2) ** 2)\n",
    "\n",
    "    # Backpropagation\n",
    "    d_a2 = (a2 - y)\n",
    "    d_z2 = d_a2 * sigmoid_deriv(z2)\n",
    "    d_W2 = a1.T.dot(d_z2)\n",
    "    d_b2 = np.sum(d_z2, axis=0, keepdims=True)\n",
    "\n",
    "    d_a1 = d_z2.dot(W2.T)\n",
    "    d_z1 = d_a1 * sigmoid_deriv(z1)\n",
    "    d_W1 = X.T.dot(d_z1)\n",
    "    d_b1 = np.sum(d_z1, axis=0, keepdims=True)\n",
    "\n",
    "    # Gradient descent\n",
    "    W2 -= lr * d_W2\n",
    "    b2 -= lr * d_b2\n",
    "    W1 -= lr * d_W1\n",
    "    b1 -= lr * d_b1\n",
    "\n",
    "    if epoch % 1000 == 0:\n",
    "        print(f\"Epoch {epoch}, Loss: {loss:.4f}\")\n"
   ]
  },
  {
   "cell_type": "code",
   "execution_count": 6,
   "id": "76d6fd6e",
   "metadata": {},
   "outputs": [],
   "source": [
    "def predict(x):\n",
    "    a1 = sigmoid(x.dot(W1) + b1)\n",
    "    a2 = sigmoid(a1.dot(W2) + b2)\n",
    "    return (a2 > 0.5).astype(int)"
   ]
  },
  {
   "cell_type": "code",
   "execution_count": 7,
   "id": "e2e989be",
   "metadata": {},
   "outputs": [
    {
     "name": "stdout",
     "output_type": "stream",
     "text": [
      "\n",
      "Test Case Results:\n",
      "Input: [0 0] → Predicted: 0 | Expected: 0\n",
      "Input: [0 1] → Predicted: 1 | Expected: 1\n",
      "Input: [1 0] → Predicted: 1 | Expected: 1\n",
      "Input: [1 1] → Predicted: 0 | Expected: 0\n"
     ]
    }
   ],
   "source": [
    "# Test cases to evaluate predictions\n",
    "test_cases = np.array([\n",
    "    [0, 0],\n",
    "    [0, 1],\n",
    "    [1, 0],\n",
    "    [1, 1]\n",
    "])\n",
    "\n",
    "predictions = predict(test_cases)\n",
    "\n",
    "print(\"\\nTest Case Results:\")\n",
    "for i, test in enumerate(test_cases):\n",
    "    print(f\"Input: {test} → Predicted: {predictions[i][0]} | Expected: {y[i][0]}\")\n"
   ]
  },
  {
   "cell_type": "code",
   "execution_count": 17,
   "id": "767ce242",
   "metadata": {},
   "outputs": [
    {
     "data": {
      "image/png": "[encoded data removed]",
      "text/plain": [
       "<Figure size 600x500 with 1 Axes>"
      ]
     },
     "metadata": {},
     "output_type": "display_data"
    }
   ],
   "source": [
    "# Plot decision boundary\n",
    "h = 0.01\n",
    "x_min, x_max = X[:, 0].min() - .5, X[:, 0].max() + .5\n",
    "y_min, y_max = X[:, 1].min() - .5, X[:, 1].max() + .5\n",
    "xx, yy = np.meshgrid(np.arange(x_min, x_max, h),\n",
    "                     np.arange(y_min, y_max, h))\n",
    "\n",
    "Z = predict(np.c_[xx.ravel(), yy.ravel()])\n",
    "Z = Z.reshape(xx.shape)\n",
    "\n",
    "plt.figure(figsize=(6, 5))\n",
    "plt.contourf(xx, yy, Z, cmap=plt.cm.Spectral, alpha=0.6)\n",
    "\n",
    "# Plot points with class-specific labels for the legend\n",
    "for i in range(len(X)):\n",
    "    if y[i] == 0:\n",
    "        plt.scatter(X[i, 0], X[i, 1], c='black', edgecolors='k',s=100, label='0' if i == 0 else \"\")\n",
    "    else:\n",
    "        plt.scatter(X[i, 0], X[i, 1], c='white', edgecolors='k', s=100, label='1' if i == 1 else \"\")\n",
    "plt.axhline()\n",
    "plt.axvline()\n",
    "plt.title(\"Decision Boundary for XOR using MLP\")\n",
    "plt.legend()\n",
    "plt.show()\n"
   ]
  }
 ],
 "metadata": {
  "kernelspec": {
   "display_name": "Python 3",
   "language": "python",
   "name": "python3"
  },
  "language_info": {
   "codemirror_mode": {
    "name": "ipython",
    "version": 3
   },
   "file_extension": ".py",
   "mimetype": "text/x-python",
   "name": "python",
   "nbconvert_exporter": "python",
   "pygments_lexer": "ipython3",
   "version": "3.10.5"
  }
 },
 "nbformat": 4,
 "nbformat_minor": 5
}
